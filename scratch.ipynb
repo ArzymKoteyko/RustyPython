{
 "cells": [
  {
   "cell_type": "code",
   "execution_count": 10,
   "id": "9eaf756e",
   "metadata": {},
   "outputs": [],
   "source": [
    "from rusty_python import rusty_python as r"
   ]
  },
  {
   "cell_type": "code",
   "execution_count": 12,
   "id": "96300cef",
   "metadata": {},
   "outputs": [
    {
     "data": {
      "text/plain": [
       "'3'"
      ]
     },
     "execution_count": 12,
     "metadata": {},
     "output_type": "execute_result"
    }
   ],
   "source": [
    "r.sum_as_string(1, 2)"
   ]
  },
  {
   "cell_type": "code",
   "execution_count": 7,
   "id": "93709733",
   "metadata": {},
   "outputs": [
    {
     "data": {
      "text/plain": [
       "<module 'rusty_python' from 'C:\\\\Users\\\\artem\\\\Works\\\\Work Bench\\\\RustyPython\\\\rusty_python\\\\__init__.py'>"
      ]
     },
     "execution_count": 7,
     "metadata": {},
     "output_type": "execute_result"
    }
   ],
   "source": [
    "rusty_python"
   ]
  },
  {
   "cell_type": "code",
   "execution_count": null,
   "id": "523d6e39",
   "metadata": {},
   "outputs": [],
   "source": []
  }
 ],
 "metadata": {
  "kernelspec": {
   "display_name": "Python 3",
   "language": "python",
   "name": "python3"
  },
  "language_info": {
   "codemirror_mode": {
    "name": "ipython",
    "version": 3
   },
   "file_extension": ".py",
   "mimetype": "text/x-python",
   "name": "python",
   "nbconvert_exporter": "python",
   "pygments_lexer": "ipython3",
   "version": "3.9.6"
  }
 },
 "nbformat": 4,
 "nbformat_minor": 5
}
