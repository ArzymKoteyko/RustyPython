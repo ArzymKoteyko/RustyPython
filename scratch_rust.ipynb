{
 "cells": [
  {
   "cell_type": "code",
   "execution_count": 3,
   "id": "527c298d",
   "metadata": {},
   "outputs": [],
   "source": [
    "use std::time::{Duration, Instant};\n",
    "use std::thread::sleep;\n",
    "\n",
    "fn primes_from_range(start:usize, finish:usize) -> Vec<i32> {\n",
    "    let now = Instant::now();\n",
    "    let mut A = vec![0i32; finish + 1];\n",
    "    \n",
    "    for prime_number in 2..((((finish+1) as f64).sqrt()) as usize + 1) {\n",
    "        if A[prime_number] == 0 {\n",
    "            let mut mod_number = prime_number*2;\n",
    "            while mod_number < finish + 1 {\n",
    "                A[mod_number] += 1;\n",
    "                mod_number += prime_number;\n",
    "            } \n",
    "        }\n",
    "    }\n",
    "    \n",
    "    \n",
    "    \n",
    "    A[0] = 1;\n",
    "    A[1] = 1;\n",
    "    let mut Res = vec![0i32; 0];\n",
    "    for number in start..finish+1 {\n",
    "        if A[number] == 0 {\n",
    "            Res.push(number as i32);\n",
    "        }\n",
    "    }\n",
    "    println!(\"{}\", now.elapsed().as_millis());\n",
    "    \n",
    "    Res\n",
    "}"
   ]
  },
  {
   "cell_type": "code",
   "execution_count": 4,
   "id": "4ab49a65",
   "metadata": {},
   "outputs": [
    {
     "name": "stdout",
     "output_type": "stream",
     "text": [
      "3\n"
     ]
    },
    {
     "data": {
      "text/plain": [
       "[999907, 999917, 999931, 999953, 999959, 999961, 999979, 999983]"
      ]
     },
     "execution_count": 4,
     "metadata": {},
     "output_type": "execute_result"
    }
   ],
   "source": [
    "primes_from_range(1000000-100, 1000000)"
   ]
  },
  {
   "cell_type": "code",
   "execution_count": null,
   "id": "d42645f9",
   "metadata": {},
   "outputs": [],
   "source": []
  }
 ],
 "metadata": {
  "kernelspec": {
   "display_name": "Rust",
   "language": "rust",
   "name": "rust"
  },
  "language_info": {
   "codemirror_mode": "rust",
   "file_extension": ".rs",
   "mimetype": "text/rust",
   "name": "Rust",
   "pygment_lexer": "rust",
   "version": ""
  }
 },
 "nbformat": 4,
 "nbformat_minor": 5
}
