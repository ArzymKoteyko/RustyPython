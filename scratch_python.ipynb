{
 "cells": [
  {
   "cell_type": "code",
   "execution_count": 1,
   "id": "5248498d",
   "metadata": {},
   "outputs": [],
   "source": [
    "from rusty_python import rusty_python as r\n",
    "from time import time"
   ]
  },
  {
   "cell_type": "code",
   "execution_count": 2,
   "id": "06b23347",
   "metadata": {},
   "outputs": [
    {
     "data": {
      "text/plain": [
       "'3'"
      ]
     },
     "execution_count": 2,
     "metadata": {},
     "output_type": "execute_result"
    }
   ],
   "source": [
    "r.sum_as_string(1, 2)"
   ]
  },
  {
   "cell_type": "code",
   "execution_count": 3,
   "id": "659e89bb",
   "metadata": {},
   "outputs": [],
   "source": [
    "def show_time(function_to_decorate):\n",
    "    def wraped_function(*args, **kwargs):\n",
    "        start = time()\n",
    "        return_values = function_to_decorate(*args, **kwargs)\n",
    "        print(time() - start)\n",
    "        return return_values\n",
    "    return wraped_function\n",
    "\n",
    "@show_time\n",
    "def primes_from_range(start, finish):\n",
    "    A = [0] * (finish + 1)\n",
    "    for prime_number in range(2, int((finish + 1)**0.5) + 1):\n",
    "        if A[prime_number] == 0:\n",
    "            for mod_number in range(prime_number * 2, finish + 1, prime_number):\n",
    "                A[mod_number] += 1\n",
    "    A[0] = 1\n",
    "    A[1] = 1\n",
    "    Res = []\n",
    "    for number in range(start, finish + 1):\n",
    "        if A[number] == 0:\n",
    "            Res.append(number)\n",
    "    return Res\n",
    "\n",
    "@show_time\n",
    "def r_primes_from_range(start, finish):\n",
    "    return(r.primes_from_range(start, finish))"
   ]
  },
  {
   "cell_type": "code",
   "execution_count": 4,
   "id": "04e79628",
   "metadata": {},
   "outputs": [
    {
     "name": "stdout",
     "output_type": "stream",
     "text": [
      "0.14760518074035645\n"
     ]
    },
    {
     "data": {
      "text/plain": [
       "[999907, 999917, 999931, 999953, 999959, 999961, 999979, 999983]"
      ]
     },
     "execution_count": 4,
     "metadata": {},
     "output_type": "execute_result"
    }
   ],
   "source": [
    "a = primes_from_range(1000000-100, 1000000)\n",
    "a"
   ]
  },
  {
   "cell_type": "code",
   "execution_count": 5,
   "id": "0c4b9ca4",
   "metadata": {},
   "outputs": [
    {
     "name": "stdout",
     "output_type": "stream",
     "text": [
      "0.08379602432250977\n"
     ]
    },
    {
     "data": {
      "text/plain": [
       "[999907, 999917, 999931, 999953, 999959, 999961, 999979, 999983, 83]"
      ]
     },
     "execution_count": 5,
     "metadata": {},
     "output_type": "execute_result"
    }
   ],
   "source": [
    "a = r_primes_from_range(1000000-100, 1000000)\n",
    "a"
   ]
  },
  {
   "cell_type": "code",
   "execution_count": 19,
   "id": "f4cc54f0",
   "metadata": {},
   "outputs": [
    {
     "data": {
      "text/plain": [
       "1.8166314531757712"
      ]
     },
     "execution_count": 19,
     "metadata": {},
     "output_type": "execute_result"
    }
   ],
   "source": [
    "0.1486225128173828 / 0.08181214332580566"
   ]
  },
  {
   "cell_type": "code",
   "execution_count": null,
   "id": "b764dc36",
   "metadata": {},
   "outputs": [],
   "source": []
  }
 ],
 "metadata": {
  "kernelspec": {
   "display_name": "Python 3",
   "language": "python",
   "name": "python3"
  },
  "language_info": {
   "codemirror_mode": {
    "name": "ipython",
    "version": 3
   },
   "file_extension": ".py",
   "mimetype": "text/x-python",
   "name": "python",
   "nbconvert_exporter": "python",
   "pygments_lexer": "ipython3",
   "version": "3.9.6"
  }
 },
 "nbformat": 4,
 "nbformat_minor": 5
}
